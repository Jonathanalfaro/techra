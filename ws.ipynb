{
 "cells": [
  {
   "metadata": {},
   "cell_type": "code",
   "source": [
    "import os\n",
    "import pathlib as Path\n",
    "import json\n",
    "import pandas as pd\n",
    "from zeep import Client\n",
    "import hashlib\n",
    "\n",
    "PRUEBAS=True\n",
    "FECHA_INICIO = '2025-03-21'\n",
    "FECHA_FIN = ''\n",
    "if PRUEBAS:\n",
    "    BASE_URL = 'http://pruebas1.techra.com.mx/WebService/'\n",
    "    USUARIO = 'cliente_prueba'\n",
    "    PASSWD= 'c27c2a5cdbcd7542dd00bb6819f8c1ce'\n",
    "else:\n",
    "    BASE_URL = 'https://ara.techra.com.mx/WebService/'\n",
    "    USUARIO = 'javier_a'\n",
    "    PASSWD= '129c9b723d04dee6c903db36aab49fbf'\n",
    "\n",
    "def inicia_sesion(usuario, password, IdSessionAnterior=any):\n",
    "    url = f'{BASE_URL}AutenticaUsuario.php?wsdl'\n",
    "    cliente_inicia_sesion = Client(url)\n",
    "    res = cliente_inicia_sesion.service.autenticaUsuario(\n",
    "        usuario,\n",
    "        password,\n",
    "        ''\n",
    "    )\n",
    "    return json.loads(res)[0]\n",
    "\n",
    "def get_usuarios(id_session):\n",
    "    cliente_usuarios = Client(f'{BASE_URL}ListaUsuario.php?wsdl')\n",
    "    res = cliente_usuarios.service.getUsuario(id_session, '')\n",
    "    return res\n",
    "\n",
    "def get_localizacion(session, usuario):\n",
    "    url = f'{BASE_URL}LocalizaUsuario.php?wsdl'\n",
    "    cliente_localizacion = Client(url)\n",
    "    res = cliente_localizacion.service.getUbicaciones(usuario,session)\n",
    "    return res\n",
    "\n",
    "def get_tickets_por_fecha(session, idusuario, ticket, fechainicio, fechafin):\n",
    "    url = f'{BASE_URL}ConsultaTicket.php?wsdl'\n",
    "    cliente_tickets = Client(url)\n",
    "    res = cliente_tickets.service.getTickets(\n",
    "        session,\n",
    "        idusuario, #USUARIO\n",
    "        '', #status\n",
    "        fechainicio, #fecha\n",
    "        fechafin, #fechafin\n",
    "        '', #latitud\n",
    "        '', #longitud\n",
    "        '', #pagina\n",
    "        '', #tampagina\n",
    "        ticket, #ticket\n",
    "        '', #serie\n",
    "        0, #cerrados\n",
    "        0, #cancelados\n",
    "        0, #morosos\n",
    "        '', #tipo\n",
    "        '', #cliente\n",
    "        ''  #todos\n",
    "    )\n",
    "    return res\n",
    "\n",
    "def get_tickets(session, usuario, ticket):\n",
    "    url = f'{BASE_URL}ConsultaTicket.php?wsdl'\n",
    "    cliente_tickets = Client(url)\n",
    "    res = cliente_tickets.service.getTickets(\n",
    "        session,\n",
    "        usuario,\n",
    "        '', #status\n",
    "        '', #fecha\n",
    "        '', #fechafin\n",
    "        '', #latitud\n",
    "        '', #longitud\n",
    "        '', #pagina\n",
    "        '', #tampagina\n",
    "        ticket, #ticket\n",
    "        '', #serie\n",
    "        0, #cerrados\n",
    "        0, #cancelados\n",
    "        0, #morosos\n",
    "        '', #tipo\n",
    "        '', #cliente\n",
    "        ''  #todos\n",
    "    )\n",
    "    return res\n",
    "\n",
    "def get_notas_por_ticket(ticket, session):\n",
    "    url = f'{BASE_URL}ConsultaNota.php?wsdl'\n",
    "    cliente_notas = Client(url)\n",
    "    res = cliente_notas.service.getNotas(\n",
    "        ticket,\n",
    "        '',\n",
    "        '',\n",
    "        '',\n",
    "        session\n",
    "    )\n",
    "    return res\n",
    "\n",
    "def get_refacciones_por_equipo(equipo,session):\n",
    "    url = f'{BASE_URL}ObtenerParteComponente.php?wsdl'\n",
    "    cliente_refacciones = Client(url)\n",
    "    res = cliente_refacciones.service.obtenerComponentePorEquipo(\n",
    "        equipo,\n",
    "        session\n",
    "    )\n",
    "    return res\n",
    "\n",
    "def lista_json_to_excel(lista_json, nombre_archivo):\n",
    "    if len(lista_json) > 0:\n",
    "        keys = lista_json[0].keys()\n",
    "        columns = [key for key in keys]\n",
    "        data = []\n",
    "        for json in lista_json:\n",
    "            data.append([json[key] for key in json.keys()])\n",
    "            # data.append([values[0], values[1]])\n",
    "        df = pd.DataFrame(data, columns=columns)\n",
    "        df.to_excel(f'{nombre_archivo}.xlsx', index=False)\n",
    "        return f'{nombre_archivo}.xlsx'\n",
    "    else:\n",
    "        return None"
   ],
   "id": "41b8e6908453f661",
   "outputs": [],
   "execution_count": null
  },
  {
   "metadata": {},
   "cell_type": "code",
   "source": [
    "PRUEBAS=True\n",
    "FECHA_INICIO = '2025-01-01'\n",
    "if PRUEBAS:\n",
    "    BASE_URL = 'http://pruebas1.techra.com.mx/WebService/'\n",
    "    USUARIO = 'cliente_prueba'\n",
    "    PASSWD= 'c27c2a5cdbcd7542dd00bb6819f8c1ce'\n",
    "else:\n",
    "    BASE_URL = 'https://ara.techra.com.mx/WebService/'\n",
    "    USUARIO = 'javier_a'\n",
    "    PASSWD= '129c9b723d04dee6c903db36aab49fbf'"
   ],
   "id": "2e0131829c854497",
   "outputs": [],
   "execution_count": null
  },
  {
   "metadata": {},
   "cell_type": "code",
   "source": [
    "res = inicia_sesion(USUARIO, PASSWD)\n",
    "session = res['IdSession']\n",
    "id_usuario = res['IdUsuario']"
   ],
   "id": "e00a98a12dd77f27",
   "outputs": [],
   "execution_count": null
  },
  {
   "metadata": {},
   "cell_type": "code",
   "source": [
    "resultado_tickets = get_tickets_por_fecha(session,'', '', '2025-01-01', '')\n",
    "tickets = json.loads(resultado_tickets)"
   ],
   "id": "4dc9cb9c8ce69c4a",
   "outputs": [],
   "execution_count": null
  },
  {
   "metadata": {
    "ExecuteTime": {
     "end_time": "2025-03-28T21:36:25.370671Z",
     "start_time": "2025-03-28T21:36:25.367561Z"
    }
   },
   "cell_type": "code",
   "source": [
    "num_ticket = tickets[-2]['Ticket']\n",
    "num_ticket"
   ],
   "id": "6cee950f73969981",
   "outputs": [
    {
     "data": {
      "text/plain": [
       "'532963'"
      ]
     },
     "execution_count": 364,
     "metadata": {},
     "output_type": "execute_result"
    }
   ],
   "execution_count": 364
  },
  {
   "metadata": {
    "ExecuteTime": {
     "end_time": "2025-03-28T21:36:32.596458Z",
     "start_time": "2025-03-28T21:36:32.442318Z"
    }
   },
   "cell_type": "code",
   "source": [
    "\n",
    "resultado_notas = get_notas_por_ticket(num_ticket, session)\n",
    "notas = json.loads(resultado_notas)"
   ],
   "id": "32358dfd5a51aead",
   "outputs": [],
   "execution_count": 365
  },
  {
   "metadata": {
    "ExecuteTime": {
     "end_time": "2025-03-28T21:36:34.749123Z",
     "start_time": "2025-03-28T21:36:34.744210Z"
    }
   },
   "cell_type": "code",
   "source": "notas",
   "id": "9b167ceb77d15af8",
   "outputs": [
    {
     "data": {
      "text/plain": [
       "[{'IdTicket': None,\n",
       "  'Titulo': None,\n",
       "  'Comentario': None,\n",
       "  'NombreFoto': None,\n",
       "  'Foto': None,\n",
       "  'NombreUsuario': None,\n",
       "  'FechaHora': None,\n",
       "  'IdEstatus': None,\n",
       "  'Estatus': None}]"
      ]
     },
     "execution_count": 366,
     "metadata": {},
     "output_type": "execute_result"
    }
   ],
   "execution_count": 366
  },
  {
   "metadata": {},
   "cell_type": "code",
   "source": [
    "usuarios = get_usuarios(session)\n",
    "usuarios = json.loads(usuarios)\n",
    "archivo_usuarios = lista_json_to_excel(usuarios, 'usuarios')"
   ],
   "id": "5431d6b4a03c824c",
   "outputs": [],
   "execution_count": null
  },
  {
   "metadata": {},
   "cell_type": "code",
   "source": [
    "\n",
    "resultado_tickets = get_tickets_por_fecha(session,'', FECHA_INICIO, FECHA_FIN)\n",
    "tickets = json.loads(resultado_tickets)\n",
    "archivo_tickets = lista_json_to_excel(tickets, 'tickets')\n",
    "numeros_tickets = [t['Ticket'] for t in tickets[:-1]]\n",
    "numeros_tickets = list(set(numeros_tickets))\n",
    "lista_notas = []\n",
    "for num_ticket in numeros_tickets:\n",
    "    resultado_notas = get_notas_por_ticket(num_ticket, session)\n",
    "    lista_notas += json.loads(resultado_notas)\n",
    "archivo_notas = lista_json_to_excel(lista_notas, 'notas')"
   ],
   "id": "5f16e57a3ca40a1e",
   "outputs": [],
   "execution_count": null
  },
  {
   "metadata": {},
   "cell_type": "code",
   "source": [
    "numeros_serie = [t['Serie'] for t in tickets[:-1]]\n",
    "numeros_serie_aux = []\n",
    "for i, ns in enumerate(numeros_serie):\n",
    "    if ns:\n",
    "        serie_split = ns.split(',')\n",
    "        if len(serie_split) > 1:\n",
    "            for _ns in serie_split:\n",
    "                numeros_serie_aux.append(_ns.strip())\n",
    "        else:\n",
    "            numeros_serie_aux .append(ns)\n",
    "numeros_serie_aux = list(set(numeros_serie_aux))\n",
    "sub_numeros_serie = numeros_serie_aux[10:50]"
   ],
   "id": "9f7dcc26665c24ea",
   "outputs": [],
   "execution_count": null
  },
  {
   "metadata": {},
   "cell_type": "code",
   "source": [
    "lista_refacciones = []\n",
    "for num_s in sub_numeros_serie:\n",
    "    resultado_refacciones = get_refacciones_por_equipo(num_s, session)\n",
    "    lista_aux = json.loads(resultado_refacciones)\n",
    "    print(lista_aux)\n",
    "    lista_refacciones += lista_aux\n",
    "lista_refacciones = json.loads(resultado_refacciones)\n",
    "archivo_refacciones = lista_json_to_excel(lista_refacciones, 'refacciones')\n"
   ],
   "id": "5abf67fa01b493c8",
   "outputs": [],
   "execution_count": null
  },
  {
   "metadata": {},
   "cell_type": "code",
   "source": "resultado_refacciones = get_refacciones_por_equipo('042DD503', session)",
   "id": "e5f7e0a01de9c614",
   "outputs": [],
   "execution_count": null
  },
  {
   "metadata": {},
   "cell_type": "code",
   "source": "",
   "id": "df3eb376aa2fff60",
   "outputs": [],
   "execution_count": null
  },
  {
   "metadata": {},
   "cell_type": "code",
   "source": [
    "lista_notas = []\n",
    "for num_ticket in numeros_tickets:\n",
    "    resultado_notas = get_notas_por_ticket(num_ticket, session)\n",
    "    lista_notas += json.loads(resultado_notas)"
   ],
   "id": "d338b89a5ecaafec",
   "outputs": [],
   "execution_count": null
  },
  {
   "metadata": {},
   "cell_type": "code",
   "source": [
    "\n",
    "len(lista_notas)"
   ],
   "id": "49a9088eaac8ca5c",
   "outputs": [],
   "execution_count": null
  },
  {
   "metadata": {},
   "cell_type": "code",
   "source": "notas",
   "id": "1481872ba4d61bd5",
   "outputs": [],
   "execution_count": null
  },
  {
   "metadata": {},
   "cell_type": "code",
   "source": [
    "resultado_tickets2 = get_tickets(session, '', '')\n",
    "resultado_tickets2"
   ],
   "id": "b9f905a12d61348d",
   "outputs": [],
   "execution_count": null
  },
  {
   "metadata": {},
   "cell_type": "code",
   "source": "",
   "id": "26c9e6bac79587d",
   "outputs": [],
   "execution_count": null
  },
  {
   "metadata": {},
   "cell_type": "code",
   "source": "resultado_tickets = get_tickets(session, 584)\n",
   "id": "1c580462928c1089",
   "outputs": [],
   "execution_count": null
  },
  {
   "metadata": {},
   "cell_type": "code",
   "source": [
    "tickets = json.loads(resultado_tickets)\n",
    "print(len(tickets))\n"
   ],
   "id": "9e76f923fa6a8a7",
   "outputs": [],
   "execution_count": null
  },
  {
   "metadata": {},
   "cell_type": "code",
   "source": "tickets[0]",
   "id": "46f3866f99663c09",
   "outputs": [],
   "execution_count": null
  },
  {
   "metadata": {},
   "cell_type": "code",
   "source": "resultado_ubicaciones = get_localizacion(session, '755')",
   "id": "4ef2549b26983420",
   "outputs": [],
   "execution_count": null
  },
  {
   "metadata": {},
   "cell_type": "code",
   "source": "resultado_ubicaciones",
   "id": "9a839dc8ac6960ce",
   "outputs": [],
   "execution_count": null
  },
  {
   "metadata": {},
   "cell_type": "code",
   "source": [
    "usuario = 'javier_a'\n",
    "password = b'Arrieta2022'\n",
    "password_md5 = hashlib.md5(password)\n",
    "password_md5 = password_md5.hexdigest()\n",
    "print(password_md5)\n"
   ],
   "id": "c0ba3d48c539d372",
   "outputs": [],
   "execution_count": null
  },
  {
   "metadata": {},
   "cell_type": "code",
   "source": "password_md5",
   "id": "20fe72dfc116c88a",
   "outputs": [],
   "execution_count": null
  },
  {
   "metadata": {},
   "cell_type": "code",
   "source": "",
   "id": "b013a859089b5e32",
   "outputs": [],
   "execution_count": null
  },
  {
   "metadata": {},
   "cell_type": "code",
   "source": "print (session)",
   "id": "a5c0963f9719d04f",
   "outputs": [],
   "execution_count": null
  },
  {
   "metadata": {},
   "cell_type": "code",
   "source": [
    "\n",
    "usuarios = json.loads(usuarios)"
   ],
   "id": "ab89c5a21a4519c1",
   "outputs": [],
   "execution_count": null
  },
  {
   "metadata": {},
   "cell_type": "code",
   "source": "usuarios[0].keys()",
   "id": "85166e6c31f4cd22",
   "outputs": [],
   "execution_count": null
  }
 ],
 "metadata": {
  "kernelspec": {
   "display_name": "Python 3",
   "language": "python",
   "name": "python3"
  },
  "language_info": {
   "codemirror_mode": {
    "name": "ipython",
    "version": 2
   },
   "file_extension": ".py",
   "mimetype": "text/x-python",
   "name": "python",
   "nbconvert_exporter": "python",
   "pygments_lexer": "ipython2",
   "version": "2.7.6"
  }
 },
 "nbformat": 4,
 "nbformat_minor": 5
}
